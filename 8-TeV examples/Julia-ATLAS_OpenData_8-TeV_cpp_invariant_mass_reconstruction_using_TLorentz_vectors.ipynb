{
 "cells": [
  {
   "cell_type": "markdown",
   "metadata": {},
   "source": [
    "## In this notebook you can find a more difficult program that shows further high energy physics (HEP) analysis techniques.\n",
    "### The following analysis is searching for events where Z bosons decay to two leptons of same flavour and opposite charge (to be seen for example in the   Feynman diagram)."
   ]
  },
  {
   "cell_type": "markdown",
   "metadata": {},
   "source": [
    "##### This is the same analysis as in the C++ notebook found at https://github.com/atlas-outreach-data-tools/notebooks-collection-opendata/blob/master/8-TeV-examples/cpp/ATLAS_OpenData_8-TeV_cpp_invariant_mass_reconstruction_using_TLorentz_vectors.ipynb\n"
   ]
  },
  {
   "cell_type": "markdown",
   "metadata": {},
   "source": [
    "\n",
    "<img src=\"https://github.com/atlas-outreach-data-tools/notebooks-collection-opendata/raw/0dab48823ece9ecf99fbff6e6968e8f91c21f211/images/Z_ElectronPositron.png\" width=\"sitewidth\"\n",
    "    />\n"
   ]
  },
  {
   "cell_type": "markdown",
   "metadata": {},
   "source": [
    "As a first step we load the required packages:  \n",
    "- UnROOT: Used to read in .root files and converting the TTrees into a LazyTree.\n",
    "- CairoMakie: Plotting  \n",
    "- FHist: Histogram generation \n",
    "- LorentzVectorHEP: Implementation of the TLorentzVector similar to TLorentzVector from ROOT."
   ]
  },
  {
   "cell_type": "code",
   "execution_count": 1,
   "metadata": {},
   "outputs": [],
   "source": [
    "using UnROOT\n",
    "using CairoMakie\n",
    "using FHist\n",
    "using LorentzVectorHEP"
   ]
  },
  {
   "cell_type": "markdown",
   "metadata": {},
   "source": [
    "Next we have to open the data that we want to analyze. It is stored in a `*.root file.`   \n",
    "We load our data using the `LazyTree` and `ROOTFile` functions."
   ]
  },
  {
   "cell_type": "code",
   "execution_count": 2,
   "metadata": {},
   "outputs": [
    {
     "data": {
      "text/html": [
       "<p>7,500,000 rows × 7 columns (omitted printing of 7,499,990 rows)</p><!DOCTYPE html>\n",
       "<html>\n",
       "<meta charset=\"UTF-8\">\n",
       "<style>\n",
       "  th { color: #000; background-color: #fff; }\n",
       "</style>\n",
       "<body>\n",
       "<table>\n",
       "  <thead>\n",
       "    <tr class = \"header\">\n",
       "      <th class = \"rowNumber\"></th>\n",
       "      <th style = \"text-align: left;\">lep_n</th>\n",
       "      <th style = \"text-align: left;\">lep_eta</th>\n",
       "      <th style = \"text-align: left;\">lep_type</th>\n",
       "      <th style = \"text-align: left;\">lep_pt</th>\n",
       "      <th style = \"text-align: left;\">lep_E</th>\n",
       "      <th style = \"text-align: left;\">lep_phi</th>\n",
       "      <th style = \"text-align: left;\">lep_charge</th>\n",
       "    </tr>\n",
       "    <tr class = \"subheader headerLastRow\">\n",
       "      <th></th>\n",
       "      <th style = \"text-align: left;\">UInt32</th>\n",
       "      <th style = \"text-align: left;\">SubArray{Float3</th>\n",
       "      <th style = \"text-align: left;\">SubArray{UInt32</th>\n",
       "      <th style = \"text-align: left;\">SubArray{Float3</th>\n",
       "      <th style = \"text-align: left;\">SubArray{Float3</th>\n",
       "      <th style = \"text-align: left;\">SubArray{Float3</th>\n",
       "      <th style = \"text-align: left;\">SubArray{Float3</th>\n",
       "    </tr>\n",
       "  </thead>\n",
       "  <tbody>\n",
       "    <tr>\n",
       "      <td class = \"rowNumber\">1</td>\n",
       "      <td style = \"text-align: left;\">1</td>\n",
       "      <td style = \"text-align: left;\">[1.71]</td>\n",
       "      <td style = \"text-align: left;\">[11]</td>\n",
       "      <td style = \"text-align: left;\">[29800.0]</td>\n",
       "      <td style = \"text-align: left;\">[85100.0]</td>\n",
       "      <td style = \"text-align: left;\">[-2.79]</td>\n",
       "      <td style = \"text-align: left;\">[-1.0]</td>\n",
       "    </tr>\n",
       "    <tr>\n",
       "      <td class = \"rowNumber\">2</td>\n",
       "      <td style = \"text-align: left;\">2</td>\n",
       "      <td style = \"text-align: left;\">[2.25, 2.12]</td>\n",
       "      <td style = \"text-align: left;\">[11, 11]</td>\n",
       "      <td style = \"text-align: left;\">[93100.0, 20100.0]</td>\n",
       "      <td style = \"text-align: left;\">[446000.0, 84500.0]</td>\n",
       "      <td style = \"text-align: left;\">[1.85, -0.883]</td>\n",
       "      <td style = \"text-align: left;\">[-1.0, 1.0]</td>\n",
       "    </tr>\n",
       "    <tr>\n",
       "      <td class = \"rowNumber\">3</td>\n",
       "      <td style = \"text-align: left;\">2</td>\n",
       "      <td style = \"text-align: left;\">[-0.872, -1.63]</td>\n",
       "      <td style = \"text-align: left;\">[11, 11]</td>\n",
       "      <td style = \"text-align: left;\">[43200.0, 37300.0]</td>\n",
       "      <td style = \"text-align: left;\">[60700.0, 98700.0]</td>\n",
       "      <td style = \"text-align: left;\">[2.48, -0.678]</td>\n",
       "      <td style = \"text-align: left;\">[1.0, -1.0]</td>\n",
       "    </tr>\n",
       "    <tr>\n",
       "      <td class = \"rowNumber\">4</td>\n",
       "      <td style = \"text-align: left;\">1</td>\n",
       "      <td style = \"text-align: left;\">[-1.13]</td>\n",
       "      <td style = \"text-align: left;\">[11]</td>\n",
       "      <td style = \"text-align: left;\">[72200.0]</td>\n",
       "      <td style = \"text-align: left;\">[123000.0]</td>\n",
       "      <td style = \"text-align: left;\">[0.96]</td>\n",
       "      <td style = \"text-align: left;\">[1.0]</td>\n",
       "    </tr>\n",
       "    <tr>\n",
       "      <td class = \"rowNumber\">5</td>\n",
       "      <td style = \"text-align: left;\">1</td>\n",
       "      <td style = \"text-align: left;\">[1.8]</td>\n",
       "      <td style = \"text-align: left;\">[11]</td>\n",
       "      <td style = \"text-align: left;\">[45100.0]</td>\n",
       "      <td style = \"text-align: left;\">[140000.0]</td>\n",
       "      <td style = \"text-align: left;\">[-0.987]</td>\n",
       "      <td style = \"text-align: left;\">[1.0]</td>\n",
       "    </tr>\n",
       "    <tr>\n",
       "      <td class = \"rowNumber\">6</td>\n",
       "      <td style = \"text-align: left;\">2</td>\n",
       "      <td style = \"text-align: left;\">[0.396, 2.2]</td>\n",
       "      <td style = \"text-align: left;\">[11, 11]</td>\n",
       "      <td style = \"text-align: left;\">[67700.0, 15000.0]</td>\n",
       "      <td style = \"text-align: left;\">[73100.0, 68300.0]</td>\n",
       "      <td style = \"text-align: left;\">[2.21, -1.42]</td>\n",
       "      <td style = \"text-align: left;\">[-1.0, 1.0]</td>\n",
       "    </tr>\n",
       "    <tr>\n",
       "      <td class = \"rowNumber\">7</td>\n",
       "      <td style = \"text-align: left;\">2</td>\n",
       "      <td style = \"text-align: left;\">[1.23, 1.25]</td>\n",
       "      <td style = \"text-align: left;\">[11, 11]</td>\n",
       "      <td style = \"text-align: left;\">[116000.0, 19500.0]</td>\n",
       "      <td style = \"text-align: left;\">[216000.0, 36900.0]</td>\n",
       "      <td style = \"text-align: left;\">[1.05, -2.66]</td>\n",
       "      <td style = \"text-align: left;\">[-1.0, 1.0]</td>\n",
       "    </tr>\n",
       "    <tr>\n",
       "      <td class = \"rowNumber\">8</td>\n",
       "      <td style = \"text-align: left;\">1</td>\n",
       "      <td style = \"text-align: left;\">[-1.9]</td>\n",
       "      <td style = \"text-align: left;\">[11]</td>\n",
       "      <td style = \"text-align: left;\">[31800.0]</td>\n",
       "      <td style = \"text-align: left;\">[109000.0]</td>\n",
       "      <td style = \"text-align: left;\">[-2.46]</td>\n",
       "      <td style = \"text-align: left;\">[1.0]</td>\n",
       "    </tr>\n",
       "    <tr>\n",
       "      <td class = \"rowNumber\">9</td>\n",
       "      <td style = \"text-align: left;\">2</td>\n",
       "      <td style = \"text-align: left;\">[1.57, 1.6]</td>\n",
       "      <td style = \"text-align: left;\">[11, 11]</td>\n",
       "      <td style = \"text-align: left;\">[58900.0, 34400.0]</td>\n",
       "      <td style = \"text-align: left;\">[148000.0, 88600.0]</td>\n",
       "      <td style = \"text-align: left;\">[0.269, -2.39]</td>\n",
       "      <td style = \"text-align: left;\">[1.0, -1.0]</td>\n",
       "    </tr>\n",
       "    <tr>\n",
       "      <td class = \"rowNumber\">10</td>\n",
       "      <td style = \"text-align: left;\">1</td>\n",
       "      <td style = \"text-align: left;\">[-0.282]</td>\n",
       "      <td style = \"text-align: left;\">[11]</td>\n",
       "      <td style = \"text-align: left;\">[27800.0]</td>\n",
       "      <td style = \"text-align: left;\">[28900.0]</td>\n",
       "      <td style = \"text-align: left;\">[0.617]</td>\n",
       "      <td style = \"text-align: left;\">[1.0]</td>\n",
       "    </tr>\n",
       "  </tbody>\n",
       "</table>\n",
       "</body>\n",
       "</html>\n"
      ],
      "text/plain": [
       "\u001b[1m Row \u001b[0m│\u001b[1m lep_n  \u001b[0m\u001b[1m lep_eta         \u001b[0m\u001b[1m lep_type        \u001b[0m\u001b[1m lep_pt          \u001b[0m\u001b[1m lep_E       \u001b[0m ⋯\n",
       "\u001b[1m     \u001b[0m│\u001b[90m UInt32 \u001b[0m\u001b[90m SubArray{Float3 \u001b[0m\u001b[90m SubArray{UInt32 \u001b[0m\u001b[90m SubArray{Float3 \u001b[0m\u001b[90m SubArray{Flo\u001b[0m ⋯\n",
       "─────┼──────────────────────────────────────────────────────────────────────────\n",
       " 1   │ 1       [1.71]           [11]             [29800.0]        [85100.0]    ⋯\n",
       " 2   │ 2       [2.25, 2.12      [11, 11]         [93100.0, 2      [446000.0,   ⋯\n",
       " 3   │ 2       [-0.872, -1      [11, 11]         [43200.0, 3      [60700.0, 9  ⋯\n",
       " 4   │ 1       [-1.13]          [11]             [72200.0]        [123000.0]   ⋯\n",
       " 5   │ 1       [1.8]            [11]             [45100.0]        [140000.0]   ⋯\n",
       " 6   │ 2       [0.396, 2.2      [11, 11]         [67700.0, 1      [73100.0, 6  ⋯\n",
       " 7   │ 2       [1.23, 1.25      [11, 11]         [116000.0,       [216000.0,   ⋯\n",
       " 8   │ 1       [-1.9]           [11]             [31800.0]        [109000.0]   ⋯\n",
       " 9   │ 2       [1.57, 1.6]      [11, 11]         [58900.0, 3      [148000.0,   ⋯\n",
       " 10  │ 1       [-0.282]         [11]             [27800.0]        [28900.0]    ⋯\n",
       " 11  │ 2       [-0.83, -1.      [11, 11]         [49800.0, 3      [67900.0, 1  ⋯\n",
       " 12  │ 2       [1.18, 0.95      [11, 11]         [50000.0, 4      [88800.0, 6  ⋯\n",
       " 13  │ 2       [-0.374, 0.      [11, 11]         [48600.0, 3      [52000.0, 3  ⋯\n",
       " 14  │ 2       [2.0, 0.017      [11, 11]         [41400.0, 2      [155000.0,   ⋯\n",
       " 15  │ 2       [0.16, 0.63      [11, 11]         [45600.0, 3      [46200.0, 4  ⋯\n",
       "  ⋮  │   ⋮            ⋮                ⋮                ⋮                ⋮     ⋱\n",
       "\u001b[36m                                              3 columns and 7499985 rows omitted\u001b[0m\n"
      ]
     },
     "metadata": {},
     "output_type": "display_data"
    }
   ],
   "source": [
    "tree = UnROOT.LazyTree(UnROOT.ROOTFile(\"http://opendata.atlas.cern/release/samples/MC/mc_147770.Zee.root\"), \"mini\", [\"lep_n\", \"lep_charge\", \"lep_type\", \"lep_pt\", \"lep_phi\", \"lep_eta\", \"lep_E\"])\n"
   ]
  },
  {
   "cell_type": "markdown",
   "metadata": {},
   "source": [
    "`tree` is a `LazyTree?` object containing selected branches of the TTree \"mini\", if no branches are specified tree will contain all branches."
   ]
  },
  {
   "cell_type": "markdown",
   "metadata": {},
   "source": [
    "Our first step is to select only the first 10% of the events, this can be done using `Iterators.take()`, iterators are lazy and will only allocate the required data when it's needed."
   ]
  },
  {
   "cell_type": "code",
   "execution_count": 3,
   "metadata": {},
   "outputs": [],
   "source": [
    "fraction_events = 0.1\n",
    "events_to_run = Int(length(tree) * fraction_events) #Total events: 7.500.000 -> We only want to take 750.000.\n",
    "tree = Iterators.take(tree, events_to_run);\n",
    "\n"
   ]
  },
  {
   "cell_type": "markdown",
   "metadata": {},
   "source": [
    "## Data selection"
   ]
  },
  {
   "cell_type": "markdown",
   "metadata": {},
   "source": [
    "Now we want to cut parts of our data to the specified requirements that we are looking for.  \n",
    " This is done with the Iterators.filter() function which filters events for which the given condition is true.  This is a lazy operation as well and won't allocate memory until we access the data."
   ]
  },
  {
   "cell_type": "markdown",
   "metadata": {},
   "source": [
    "### Cut 1: Exactly two leptons"
   ]
  },
  {
   "cell_type": "code",
   "execution_count": 4,
   "metadata": {},
   "outputs": [],
   "source": [
    "tree = Iterators.filter(x->getproperty(x , :lep_n)==2, tree);"
   ]
  },
  {
   "cell_type": "markdown",
   "metadata": {},
   "source": [
    "### Cut 2: Leptons with opposite charge\n",
    "### `tree.lep_charge` contains arrays which each contain the charge of the leptons that are involved in the event of which we inspect the two leading ones."
   ]
  },
  {
   "cell_type": "code",
   "execution_count": 5,
   "metadata": {},
   "outputs": [],
   "source": [
    "tree = Iterators.filter(x->getproperty(x, :lep_charge)[1] != getproperty(x, :lep_charge)[2], tree);"
   ]
  },
  {
   "cell_type": "markdown",
   "metadata": {},
   "source": [
    "### Cut 3: Leptons of the same family (`lep_type`)"
   ]
  },
  {
   "cell_type": "code",
   "execution_count": 6,
   "metadata": {},
   "outputs": [],
   "source": [
    "tree = Iterators.filter(x->getproperty(x, :lep_type)[1] == getproperty(x, :lep_type)[2], tree);\n"
   ]
  },
  {
   "cell_type": "markdown",
   "metadata": {},
   "source": [
    "## Histogram creation"
   ]
  },
  {
   "cell_type": "markdown",
   "metadata": {},
   "source": [
    "Now we want to calculate the invariant masses for the events that we think show the decay of the Z boson in two leptons and fill a histogram with those.  \n",
    "For that we create an empty histogram containing 30 equally spaced bins in the range from 40 to 140."
   ]
  },
  {
   "cell_type": "code",
   "execution_count": 7,
   "metadata": {},
   "outputs": [
    {
     "data": {
      "text/html": [
       "<div style=\"display: flex;\">\n",
       "    <div style=\"float:left; margin:5px\"><svg width=\"250\" height=\"200\" version=\"1.1\" xmlns=\"http://www.w3.org/2000/svg\">\n",
       "    <polyline points=\"12.5,180.0,12.5,NaN,20.0,NaN,20.0,NaN,27.500000000000004,NaN,27.500000000000004,NaN,35.0,NaN,35.0,NaN,42.50000000000001,NaN,42.50000000000001,NaN,50.00000000000001,NaN,50.00000000000001,NaN,57.50000000000001,NaN,57.50000000000001,NaN,65.0,NaN,65.0,NaN,72.50000000000001,NaN,72.50000000000001,NaN,80.00000000000001,NaN,80.00000000000001,NaN,87.50000000000001,NaN,87.50000000000001,NaN,95.00000000000001,NaN,95.00000000000001,NaN,102.50000000000001,NaN,102.50000000000001,NaN,110.00000000000001,NaN,110.00000000000001,NaN,117.50000000000001,NaN,117.50000000000001,NaN,125.00000000000001,NaN,125.00000000000001,NaN,132.50000000000003,NaN,132.50000000000003,NaN,140.00000000000003,NaN,140.00000000000003,NaN,147.50000000000003,NaN,147.50000000000003,NaN,155.00000000000003,NaN,155.00000000000003,NaN,162.50000000000003,NaN,162.50000000000003,NaN,170.00000000000003,NaN,170.00000000000003,NaN,177.50000000000003,NaN,177.50000000000003,NaN,185.00000000000003,NaN,185.00000000000003,NaN,192.50000000000003,NaN,192.50000000000003,NaN,200.00000000000003,NaN,200.00000000000003,NaN,207.50000000000003,NaN,207.50000000000003,NaN,215.00000000000003,NaN,215.00000000000003,NaN,222.50000000000003,NaN,222.50000000000003,NaN,230.00000000000003,NaN,230.00000000000003,NaN,237.50000000000003,NaN,237.5,180.0,12.5,180.0\" stroke=\"black\" fill=\"#ffffff00\" stroke-width=\"1\"/>\n",
       "    <polyline points=\"12.5,180.0,237.5,180.0\" stroke=\"black\" stroke-width=\"1\"/>\n",
       "    <text x=\"12.5\" y=\"190.0\" dominant-baseline=\"middle\" text-anchor=\"start\" fill=\"black\">40.0</text>\n",
       "    <text x=\"237.5\" y=\"190.0\" dominant-baseline=\"middle\" text-anchor=\"end\" fill=\"black\">140.0</text>\n",
       "</svg>\n",
       "</div>\n",
       "    <div style=\"float:left; margin:5px; max-width: 50%; display:flex; justify-content:center; align-items:center;\">\n",
       "        <ul>\n",
       "            <li>edges: 40.0:3.3333333333333335:140.0</li>\n",
       "            <li>bin counts: [0.0, 0.0, 0.0, 0.0, 0.0, 0.0, 0.0, 0.0, 0.0, 0.0  …  0.0, 0.0, 0.0, 0.0, 0.0, 0.0, 0.0, 0.0, 0.0, 0.0]</li>\n",
       "            <li>maximum count: 0.0</li>\n",
       "            <li>total count: 0.0</li>\n",
       "        </ul>\n",
       "    </div>\n",
       "</div>\n",
       "\n"
      ],
      "text/plain": [
       "                  \u001b[38;5;8m┌                              ┐\u001b[0m \n",
       "   [ 40.0,  43.0) \u001b[38;5;8m┤\u001b[0m\u001b[38;5;2m\u001b[0m\u001b[38;5;2m \u001b[0m 0.0                         \u001b[38;5;8m \u001b[0m \u001b[38;5;8m\u001b[0m\n",
       "   [ 43.0,  46.0) \u001b[38;5;8m┤\u001b[0m\u001b[38;5;2m\u001b[0m\u001b[38;5;2m \u001b[0m 0.0                         \u001b[38;5;8m \u001b[0m \u001b[38;5;8m\u001b[0m\n",
       "   [ 47.0,  50.0) \u001b[38;5;8m┤\u001b[0m\u001b[38;5;2m\u001b[0m\u001b[38;5;2m \u001b[0m 0.0                         \u001b[38;5;8m \u001b[0m \u001b[38;5;8m\u001b[0m\n",
       "   [ 50.0,  53.0) \u001b[38;5;8m┤\u001b[0m\u001b[38;5;2m\u001b[0m\u001b[38;5;2m \u001b[0m 0.0                         \u001b[38;5;8m \u001b[0m \u001b[38;5;8m\u001b[0m\n",
       "   [ 53.0,  56.0) \u001b[38;5;8m┤\u001b[0m\u001b[38;5;2m\u001b[0m\u001b[38;5;2m \u001b[0m 0.0                         \u001b[38;5;8m \u001b[0m \u001b[38;5;8m\u001b[0m\n",
       "   [ 57.0,  60.0) \u001b[38;5;8m┤\u001b[0m\u001b[38;5;2m\u001b[0m\u001b[38;5;2m \u001b[0m 0.0                         \u001b[38;5;8m \u001b[0m \u001b[38;5;8m\u001b[0m\n",
       "   [ 60.0,  63.0) \u001b[38;5;8m┤\u001b[0m\u001b[38;5;2m\u001b[0m\u001b[38;5;2m \u001b[0m 0.0                         \u001b[38;5;8m \u001b[0m \u001b[38;5;8m\u001b[0m\n",
       "   [ 63.0,  66.0) \u001b[38;5;8m┤\u001b[0m\u001b[38;5;2m\u001b[0m\u001b[38;5;2m \u001b[0m 0.0                         \u001b[38;5;8m \u001b[0m \u001b[38;5;8m\u001b[0m\n",
       "   [ 67.0,  70.0) \u001b[38;5;8m┤\u001b[0m\u001b[38;5;2m\u001b[0m\u001b[38;5;2m \u001b[0m 0.0                         \u001b[38;5;8m \u001b[0m \u001b[38;5;8m\u001b[0m\n",
       "   [ 70.0,  73.0) \u001b[38;5;8m┤\u001b[0m\u001b[38;5;2m\u001b[0m\u001b[38;5;2m \u001b[0m 0.0                         \u001b[38;5;8m \u001b[0m \u001b[38;5;8m\u001b[0m\n",
       "   [ 73.0,  76.0) \u001b[38;5;8m┤\u001b[0m\u001b[38;5;2m\u001b[0m\u001b[38;5;2m \u001b[0m 0.0                         \u001b[38;5;8m \u001b[0m \u001b[38;5;8m\u001b[0m\n",
       "   [ 77.0,  80.0) \u001b[38;5;8m┤\u001b[0m\u001b[38;5;2m\u001b[0m\u001b[38;5;2m \u001b[0m 0.0                         \u001b[38;5;8m \u001b[0m \u001b[38;5;8m\u001b[0m\n",
       "   [ 80.0,  83.0) \u001b[38;5;8m┤\u001b[0m\u001b[38;5;2m\u001b[0m\u001b[38;5;2m \u001b[0m 0.0                         \u001b[38;5;8m \u001b[0m \u001b[38;5;8m\u001b[0m\n",
       "   [ 83.0,  86.0) \u001b[38;5;8m┤\u001b[0m\u001b[38;5;2m\u001b[0m\u001b[38;5;2m \u001b[0m 0.0                         \u001b[38;5;8m \u001b[0m \u001b[38;5;8m\u001b[0m\n",
       "   [ 87.0,  90.0) \u001b[38;5;8m┤\u001b[0m\u001b[38;5;2m\u001b[0m\u001b[38;5;2m \u001b[0m 0.0                         \u001b[38;5;8m \u001b[0m \u001b[38;5;8m\u001b[0m\n",
       "   [ 90.0,  93.0) \u001b[38;5;8m┤\u001b[0m\u001b[38;5;2m\u001b[0m\u001b[38;5;2m \u001b[0m 0.0                         \u001b[38;5;8m \u001b[0m \u001b[38;5;8m\u001b[0m\n",
       "   [ 93.0,  96.0) \u001b[38;5;8m┤\u001b[0m\u001b[38;5;2m\u001b[0m\u001b[38;5;2m \u001b[0m 0.0                         \u001b[38;5;8m \u001b[0m \u001b[38;5;8m\u001b[0m\n",
       "   [ 97.0, 100.0) \u001b[38;5;8m┤\u001b[0m\u001b[38;5;2m\u001b[0m\u001b[38;5;2m \u001b[0m 0.0                         \u001b[38;5;8m \u001b[0m \u001b[38;5;8m\u001b[0m\n",
       "   [100.0, 103.0) \u001b[38;5;8m┤\u001b[0m\u001b[38;5;2m\u001b[0m\u001b[38;5;2m \u001b[0m 0.0                         \u001b[38;5;8m \u001b[0m \u001b[38;5;8m\u001b[0m\n",
       "   [103.0, 106.0) \u001b[38;5;8m┤\u001b[0m\u001b[38;5;2m\u001b[0m\u001b[38;5;2m \u001b[0m 0.0                         \u001b[38;5;8m \u001b[0m \u001b[38;5;8m\u001b[0m\n",
       "   [107.0, 110.0) \u001b[38;5;8m┤\u001b[0m\u001b[38;5;2m\u001b[0m\u001b[38;5;2m \u001b[0m 0.0                         \u001b[38;5;8m \u001b[0m \u001b[38;5;8m\u001b[0m\n",
       "   [110.0, 113.0) \u001b[38;5;8m┤\u001b[0m\u001b[38;5;2m\u001b[0m\u001b[38;5;2m \u001b[0m 0.0                         \u001b[38;5;8m \u001b[0m \u001b[38;5;8m\u001b[0m\n",
       "   [113.0, 116.0) \u001b[38;5;8m┤\u001b[0m\u001b[38;5;2m\u001b[0m\u001b[38;5;2m \u001b[0m 0.0                         \u001b[38;5;8m \u001b[0m \u001b[38;5;8m\u001b[0m\n",
       "   [117.0, 120.0) \u001b[38;5;8m┤\u001b[0m\u001b[38;5;2m\u001b[0m\u001b[38;5;2m \u001b[0m 0.0                         \u001b[38;5;8m \u001b[0m \u001b[38;5;8m\u001b[0m\n",
       "   [120.0, 123.0) \u001b[38;5;8m┤\u001b[0m\u001b[38;5;2m\u001b[0m\u001b[38;5;2m \u001b[0m 0.0                         \u001b[38;5;8m \u001b[0m \u001b[38;5;8m\u001b[0m\n",
       "   [123.0, 126.0) \u001b[38;5;8m┤\u001b[0m\u001b[38;5;2m\u001b[0m\u001b[38;5;2m \u001b[0m 0.0                         \u001b[38;5;8m \u001b[0m \u001b[38;5;8m\u001b[0m\n",
       "   [127.0, 130.0) \u001b[38;5;8m┤\u001b[0m\u001b[38;5;2m\u001b[0m\u001b[38;5;2m \u001b[0m 0.0                         \u001b[38;5;8m \u001b[0m \u001b[38;5;8m\u001b[0m\n",
       "   [130.0, 133.0) \u001b[38;5;8m┤\u001b[0m\u001b[38;5;2m\u001b[0m\u001b[38;5;2m \u001b[0m 0.0                         \u001b[38;5;8m \u001b[0m \u001b[38;5;8m\u001b[0m\n",
       "   [133.0, 136.0) \u001b[38;5;8m┤\u001b[0m\u001b[38;5;2m\u001b[0m\u001b[38;5;2m \u001b[0m 0.0                         \u001b[38;5;8m \u001b[0m \u001b[38;5;8m\u001b[0m\n",
       "   [137.0, 140.0) \u001b[38;5;8m┤\u001b[0m\u001b[38;5;2m\u001b[0m\u001b[38;5;2m \u001b[0m 0.0                         \u001b[38;5;8m \u001b[0m \u001b[38;5;8m\u001b[0m\n",
       "                  \u001b[38;5;8m└                              ┘\u001b[0m \n",
       "edges: 40.0:3.3333333333333335:140.0\n",
       "bin counts: [0.0, 0.0, 0.0, 0.0, 0.0, 0.0, 0.0, 0.0, 0.0, 0.0  …  0.0, 0.0, 0.0, 0.0, 0.0, 0.0, 0.0, 0.0, 0.0, 0.0]\n",
       "total count: 0.0"
      ]
     },
     "metadata": {},
     "output_type": "display_data"
    }
   ],
   "source": [
    "#hist = FHist.Hist1D(Float64, bins = range(40., 140., step= 3.33), overflow=false)\n",
    "hist = FHist.Hist1D(Float64, bins = range(40, 140, 31), overflow=false)"
   ]
  },
  {
   "cell_type": "markdown",
   "metadata": {},
   "source": [
    "We use a for loop to calculate our LorentzVectors, calculate the invariant mass and add it (divided by 1000 so we get GeV instead of MeV) to our histogram.  \n",
    "This temporarily allocates only the required memory for a single event while accessing it.  \n",
    "`fast_mass` is a function from the *LorentzVectorHEP.jl* package that calculates the invariant mass of two Lorentz vectors.  \n",
    "`atomic_push!` is a function from the *FHist.jl* package that fills the histogram."
   ]
  },
  {
   "cell_type": "code",
   "execution_count": 8,
   "metadata": {},
   "outputs": [],
   "source": [
    "for event in tree \n",
    "    v1 = fromPtEtaPhiE(event.lep_pt[1], event.lep_eta[1], event.lep_phi[1], event.lep_E[1])\n",
    "    v2 = fromPtEtaPhiE(event.lep_pt[2], event.lep_eta[2], event.lep_phi[2], event.lep_E[2])\n",
    "    mass = fast_mass(v1, v2)\n",
    "    atomic_push!(hist, mass/1000)\n",
    "end"
   ]
  },
  {
   "cell_type": "code",
   "execution_count": 9,
   "metadata": {},
   "outputs": [
    {
     "data": {
      "text/html": [
       "<div style=\"display: flex;\">\n",
       "    <div style=\"float:left; margin:5px\"><svg width=\"250\" height=\"200\" version=\"1.1\" xmlns=\"http://www.w3.org/2000/svg\">\n",
       "    <polyline points=\"12.5,180.0,12.5,177.26508602242575,20.0,177.26508602242575,20.0,177.04596422151846,27.500000000000004,177.04596422151846,27.500000000000004,176.98022768124625,35.0,176.98022768124625,35.0,177.05965933407515,42.50000000000001,177.05965933407515,42.50000000000001,177.06924591286486,50.00000000000001,177.06924591286486,50.00000000000001,176.99940083882564,57.50000000000001,176.99940083882564,57.50000000000001,176.97201061371223,65.0,176.97201061371223,65.0,176.5953950184028,72.50000000000001,176.5953950184028,72.50000000000001,175.91611743559017,80.00000000000001,175.91611743559017,80.00000000000001,174.92322177522897,87.50000000000001,174.92322177522897,87.50000000000001,172.5758794830095,95.00000000000001,172.5758794830095,95.00000000000001,167.53744757339726,102.50000000000001,167.53744757339726,102.50000000000001,154.48874432936745,110.00000000000001,154.48874432936745,110.00000000000001,117.03124197551999,117.50000000000001,117.03124197551999,117.50000000000001,28.996319438500386,125.00000000000001,28.996319438500386,125.00000000000001,19.999999999999996,132.50000000000003,19.999999999999996,132.50000000000003,132.14516819310109,140.00000000000003,132.14516819310109,140.00000000000003,167.02798938628777,147.50000000000003,167.02798938628777,147.50000000000003,174.2685953950184,155.00000000000003,174.2685953950184,155.00000000000003,176.6145681759822,162.50000000000003,176.6145681759822,162.50000000000003,177.82384661473938,170.00000000000003,177.82384661473938,170.00000000000003,178.29906702045707,177.50000000000003,178.29906702045707,177.50000000000003,178.73457159976033,185.00000000000003,178.73457159976033,185.00000000000003,179.00436531712745,192.50000000000003,179.00436531712745,192.50000000000003,179.20020542668834,200.00000000000003,179.20020542668834,200.00000000000003,179.31798339467605,207.50000000000003,179.31798339467605,207.50000000000003,179.43713087391936,215.00000000000003,179.43713087391936,215.00000000000003,179.5398442180947,222.50000000000003,179.5398442180947,222.50000000000003,179.5987332020885,230.00000000000003,179.5987332020885,230.00000000000003,179.63981853975864,237.50000000000003,179.63981853975864,237.5,180.0,12.5,180.0\" stroke=\"black\" fill=\"#ffffff00\" stroke-width=\"1\"/>\n",
       "    <polyline points=\"12.5,180.0,237.5,180.0\" stroke=\"black\" stroke-width=\"1\"/>\n",
       "    <text x=\"12.5\" y=\"190.0\" dominant-baseline=\"middle\" text-anchor=\"start\" fill=\"black\">40.0</text>\n",
       "    <text x=\"237.5\" y=\"190.0\" dominant-baseline=\"middle\" text-anchor=\"end\" fill=\"black\">140.0</text>\n",
       "</svg>\n",
       "</div>\n",
       "    <div style=\"float:left; margin:5px; max-width: 50%; display:flex; justify-content:center; align-items:center;\">\n",
       "        <ul>\n",
       "            <li>edges: 40.0:3.3333333333333335:140.0</li>\n",
       "            <li>bin counts: [1997.0, 2157.0, 2205.0, 2147.0, 2140.0, 2191.0, 2211.0, 2486.0, 2982.0, 3707.0  …  1589.0, 1242.0, 924.0, 727.0, 584.0, 498.0, 411.0, 336.0, 293.0, 263.0]</li>\n",
       "            <li>maximum count: 116830.0</li>\n",
       "            <li>total count: 388381.0</li>\n",
       "        </ul>\n",
       "    </div>\n",
       "</div>\n",
       "\n"
      ],
      "text/plain": [
       "                  \u001b[38;5;8m┌                              ┐\u001b[0m \n",
       "   [ 40.0,  43.0) \u001b[38;5;8m┤\u001b[0m\u001b[38;5;2m\u001b[0m\u001b[38;5;2m▍\u001b[0m 1997.0                      \u001b[38;5;8m \u001b[0m \u001b[38;5;8m\u001b[0m\n",
       "   [ 43.0,  46.0) \u001b[38;5;8m┤\u001b[0m\u001b[38;5;2m\u001b[0m\u001b[38;5;2m▍\u001b[0m 2157.0                      \u001b[38;5;8m \u001b[0m \u001b[38;5;8m\u001b[0m\n",
       "   [ 47.0,  50.0) \u001b[38;5;8m┤\u001b[0m\u001b[38;5;2m\u001b[0m\u001b[38;5;2m▍\u001b[0m 2205.0                      \u001b[38;5;8m \u001b[0m \u001b[38;5;8m\u001b[0m\n",
       "   [ 50.0,  53.0) \u001b[38;5;8m┤\u001b[0m\u001b[38;5;2m\u001b[0m\u001b[38;5;2m▍\u001b[0m 2147.0                      \u001b[38;5;8m \u001b[0m \u001b[38;5;8m\u001b[0m\n",
       "   [ 53.0,  56.0) \u001b[38;5;8m┤\u001b[0m\u001b[38;5;2m\u001b[0m\u001b[38;5;2m▍\u001b[0m 2140.0                      \u001b[38;5;8m \u001b[0m \u001b[38;5;8m\u001b[0m\n",
       "   [ 57.0,  60.0) \u001b[38;5;8m┤\u001b[0m\u001b[38;5;2m\u001b[0m\u001b[38;5;2m▍\u001b[0m 2191.0                      \u001b[38;5;8m \u001b[0m \u001b[38;5;8m\u001b[0m\n",
       "   [ 60.0,  63.0) \u001b[38;5;8m┤\u001b[0m\u001b[38;5;2m\u001b[0m\u001b[38;5;2m▍\u001b[0m 2211.0                      \u001b[38;5;8m \u001b[0m \u001b[38;5;8m\u001b[0m\n",
       "   [ 63.0,  66.0) \u001b[38;5;8m┤\u001b[0m\u001b[38;5;2m\u001b[0m\u001b[38;5;2m▌\u001b[0m 2486.0                      \u001b[38;5;8m \u001b[0m \u001b[38;5;8m\u001b[0m\n",
       "   [ 67.0,  70.0) \u001b[38;5;8m┤\u001b[0m\u001b[38;5;2m\u001b[0m\u001b[38;5;2m▌\u001b[0m 2982.0                      \u001b[38;5;8m \u001b[0m \u001b[38;5;8m\u001b[0m\n",
       "   [ 70.0,  73.0) \u001b[38;5;8m┤\u001b[0m\u001b[38;5;2m\u001b[0m\u001b[38;5;2m▋\u001b[0m 3707.0                      \u001b[38;5;8m \u001b[0m \u001b[38;5;8m\u001b[0m\n",
       "   [ 73.0,  76.0) \u001b[38;5;8m┤\u001b[0m\u001b[38;5;2m\u001b[0m\u001b[38;5;2m▉\u001b[0m 5421.0                      \u001b[38;5;8m \u001b[0m \u001b[38;5;8m\u001b[0m\n",
       "   [ 77.0,  80.0) \u001b[38;5;8m┤\u001b[0m\u001b[38;5;2m█\u001b[0m\u001b[38;5;2m▌\u001b[0m 9100.0                     \u001b[38;5;8m \u001b[0m \u001b[38;5;8m\u001b[0m\n",
       "   [ 80.0,  83.0) \u001b[38;5;8m┤\u001b[0m\u001b[38;5;2m███\u001b[0m\u001b[38;5;2m▎\u001b[0m 18628.0                  \u001b[38;5;8m \u001b[0m \u001b[38;5;8m\u001b[0m\n",
       "   [ 83.0,  86.0) \u001b[38;5;8m┤\u001b[0m\u001b[38;5;2m███████\u001b[0m\u001b[38;5;2m▊\u001b[0m 45979.0              \u001b[38;5;8m \u001b[0m \u001b[38;5;8m\u001b[0m\n",
       "   [ 87.0,  90.0) \u001b[38;5;8m┤\u001b[0m\u001b[38;5;2m██████████████████\u001b[0m\u001b[38;5;2m▊\u001b[0m 110261.0  \u001b[38;5;8m \u001b[0m \u001b[38;5;8m\u001b[0m\n",
       "   [ 90.0,  93.0) \u001b[38;5;8m┤\u001b[0m\u001b[38;5;2m████████████████████\u001b[0m\u001b[38;5;2m \u001b[0m 116830.0\u001b[38;5;8m \u001b[0m \u001b[38;5;8m\u001b[0m\n",
       "   [ 93.0,  96.0) \u001b[38;5;8m┤\u001b[0m\u001b[38;5;2m█████\u001b[0m\u001b[38;5;2m▉\u001b[0m 34943.0                \u001b[38;5;8m \u001b[0m \u001b[38;5;8m\u001b[0m\n",
       "   [ 97.0, 100.0) \u001b[38;5;8m┤\u001b[0m\u001b[38;5;2m█\u001b[0m\u001b[38;5;2m▋\u001b[0m 9472.0                     \u001b[38;5;8m \u001b[0m \u001b[38;5;8m\u001b[0m\n",
       "   [100.0, 103.0) \u001b[38;5;8m┤\u001b[0m\u001b[38;5;2m\u001b[0m\u001b[38;5;2m▋\u001b[0m 4185.0                      \u001b[38;5;8m \u001b[0m \u001b[38;5;8m\u001b[0m\n",
       "   [103.0, 106.0) \u001b[38;5;8m┤\u001b[0m\u001b[38;5;2m\u001b[0m\u001b[38;5;2m▌\u001b[0m 2472.0                      \u001b[38;5;8m \u001b[0m \u001b[38;5;8m\u001b[0m\n",
       "   [107.0, 110.0) \u001b[38;5;8m┤\u001b[0m\u001b[38;5;2m\u001b[0m\u001b[38;5;2m▍\u001b[0m 1589.0                      \u001b[38;5;8m \u001b[0m \u001b[38;5;8m\u001b[0m\n",
       "   [110.0, 113.0) \u001b[38;5;8m┤\u001b[0m\u001b[38;5;2m\u001b[0m\u001b[38;5;2m▎\u001b[0m 1242.0                      \u001b[38;5;8m \u001b[0m \u001b[38;5;8m\u001b[0m\n",
       "   [113.0, 116.0) \u001b[38;5;8m┤\u001b[0m\u001b[38;5;2m\u001b[0m\u001b[38;5;2m▎\u001b[0m 924.0                       \u001b[38;5;8m \u001b[0m \u001b[38;5;8m\u001b[0m\n",
       "   [117.0, 120.0) \u001b[38;5;8m┤\u001b[0m\u001b[38;5;2m\u001b[0m\u001b[38;5;2m▎\u001b[0m 727.0                       \u001b[38;5;8m \u001b[0m \u001b[38;5;8m\u001b[0m\n",
       "   [120.0, 123.0) \u001b[38;5;8m┤\u001b[0m\u001b[38;5;2m\u001b[0m\u001b[38;5;2m▎\u001b[0m 584.0                       \u001b[38;5;8m \u001b[0m \u001b[38;5;8m\u001b[0m\n",
       "   [123.0, 126.0) \u001b[38;5;8m┤\u001b[0m\u001b[38;5;2m\u001b[0m\u001b[38;5;2m▎\u001b[0m 498.0                       \u001b[38;5;8m \u001b[0m \u001b[38;5;8m\u001b[0m\n",
       "   [127.0, 130.0) \u001b[38;5;8m┤\u001b[0m\u001b[38;5;2m\u001b[0m\u001b[38;5;2m▏\u001b[0m 411.0                       \u001b[38;5;8m \u001b[0m \u001b[38;5;8m\u001b[0m\n",
       "   [130.0, 133.0) \u001b[38;5;8m┤\u001b[0m\u001b[38;5;2m\u001b[0m\u001b[38;5;2m▏\u001b[0m 336.0                       \u001b[38;5;8m \u001b[0m \u001b[38;5;8m\u001b[0m\n",
       "   [133.0, 136.0) \u001b[38;5;8m┤\u001b[0m\u001b[38;5;2m\u001b[0m\u001b[38;5;2m▏\u001b[0m 293.0                       \u001b[38;5;8m \u001b[0m \u001b[38;5;8m\u001b[0m\n",
       "   [137.0, 140.0) \u001b[38;5;8m┤\u001b[0m\u001b[38;5;2m\u001b[0m\u001b[38;5;2m▏\u001b[0m 263.0                       \u001b[38;5;8m \u001b[0m \u001b[38;5;8m\u001b[0m\n",
       "                  \u001b[38;5;8m└                              ┘\u001b[0m \n",
       "edges: 40.0:3.3333333333333335:140.0\n",
       "bin counts: [1997.0, 2157.0, 2205.0, 2147.0, 2140.0, 2191.0, 2211.0, 2486.0, 2982.0, 3707.0  …  1589.0, 1242.0, 924.0, 727.0, 584.0, 498.0, 411.0, 336.0, 293.0, 263.0]\n",
       "total count: 388381.0"
      ]
     },
     "metadata": {},
     "output_type": "display_data"
    }
   ],
   "source": [
    "hist"
   ]
  },
  {
   "cell_type": "markdown",
   "metadata": {},
   "source": [
    "## Plotting the histogram"
   ]
  },
  {
   "cell_type": "code",
   "execution_count": 10,
   "metadata": {},
   "outputs": [
    {
     "data": {
      "image/png": "[encoded data removed]",
      "text/plain": [
       "Scene (800px, 600px):\n",
       "  18 Plots:\n",
       "    ├ Combined{Makie.poly, Tuple{Vector{Vector{Point{2, Float32}}}}}\n",
       "    ├ LineSegments{Tuple{Vector{Point{2, Float32}}}}\n",
       "    ├ LineSegments{Tuple{Vector{Point{2, Float32}}}}\n",
       "    ├ LineSegments{Tuple{Vector{Point{2, Float32}}}}\n",
       "    ├ LineSegments{Tuple{Vector{Point{2, Float32}}}}\n",
       "    ├ LineSegments{Tuple{Vector{Point{2, Float32}}}}\n",
       "    ├ LineSegments{Tuple{Vector{Point{2, Float32}}}}\n",
       "    ├ MakieCore.Text{Tuple{String}}\n",
       "    ├ Lines{Tuple{Vector{Point{2, Float32}}}}\n",
       "    ├ MakieCore.Text{Tuple{Vector{Tuple{AbstractString, Point{2, Float32}}}}}\n",
       "    ├ LineSegments{Tuple{Vector{Point{2, Float32}}}}\n",
       "    ├ LineSegments{Tuple{Vector{Point{2, Float32}}}}\n",
       "    ├ MakieCore.Text{Tuple{String}}\n",
       "    ├ Lines{Tuple{Vector{Point{2, Float32}}}}\n",
       "    ├ MakieCore.Text{Tuple{Vector{Tuple{AbstractString, Point{2, Float32}}}}}\n",
       "    ├ Lines{Tuple{Vector{Point{2, Float32}}}}\n",
       "    ├ Lines{Tuple{Vector{Point{2, Float32}}}}\n",
       "    └ MakieCore.Text{Tuple{String}}\n",
       "  2 Child Scenes:\n",
       "    ├ Scene (691px, 497px)\n",
       "    └ Scene (800px, 600px)"
      ]
     },
     "metadata": {},
     "output_type": "display_data"
    }
   ],
   "source": [
    "p1 = stairs(hist,  label = \"Mass Z\", axis = (title = \"Mass of the Z boson\", xlabel = \"mass[GeV]\", ylabel = \"Events x 10³\", xticks = 40:20:200,xminorticks = IntervalsBetween(4), xminorticksvisible = true,ytickformat =y->string.(round.(y/1000)), yticks = 0:10^4:1.5*10^5,))\n",
    "axislegend()\n",
    "current_figure()"
   ]
  },
  {
   "cell_type": "markdown",
   "metadata": {},
   "source": [
    "### We can easily add some statistics to our plot."
   ]
  },
  {
   "cell_type": "code",
   "execution_count": 11,
   "metadata": {},
   "outputs": [
    {
     "data": {
      "image/png": "[encoded data removed]",
      "text/plain": [
       "Scene (800px, 600px):\n",
       "  18 Plots:\n",
       "    ├ Combined{Makie.poly, Tuple{Vector{Vector{Point{2, Float32}}}}}\n",
       "    ├ LineSegments{Tuple{Vector{Point{2, Float32}}}}\n",
       "    ├ LineSegments{Tuple{Vector{Point{2, Float32}}}}\n",
       "    ├ LineSegments{Tuple{Vector{Point{2, Float32}}}}\n",
       "    ├ LineSegments{Tuple{Vector{Point{2, Float32}}}}\n",
       "    ├ LineSegments{Tuple{Vector{Point{2, Float32}}}}\n",
       "    ├ LineSegments{Tuple{Vector{Point{2, Float32}}}}\n",
       "    ├ MakieCore.Text{Tuple{String}}\n",
       "    ├ Lines{Tuple{Vector{Point{2, Float32}}}}\n",
       "    ├ MakieCore.Text{Tuple{Vector{Tuple{AbstractString, Point{2, Float32}}}}}\n",
       "    ├ LineSegments{Tuple{Vector{Point{2, Float32}}}}\n",
       "    ├ LineSegments{Tuple{Vector{Point{2, Float32}}}}\n",
       "    ├ MakieCore.Text{Tuple{String}}\n",
       "    ├ Lines{Tuple{Vector{Point{2, Float32}}}}\n",
       "    ├ MakieCore.Text{Tuple{Vector{Tuple{AbstractString, Point{2, Float32}}}}}\n",
       "    ├ Lines{Tuple{Vector{Point{2, Float32}}}}\n",
       "    ├ Lines{Tuple{Vector{Point{2, Float32}}}}\n",
       "    └ MakieCore.Text{Tuple{String}}\n",
       "  3 Child Scenes:\n",
       "    ├ Scene (485px, 497px)\n",
       "    ├ Scene (800px, 600px)\n",
       "    └ Scene (800px, 600px)"
      ]
     },
     "metadata": {},
     "output_type": "display_data"
    }
   ],
   "source": [
    "FHist.statbox!(p1, hist)"
   ]
  },
  {
   "cell_type": "code",
   "execution_count": null,
   "metadata": {},
   "outputs": [],
   "source": []
  }
 ],
 "metadata": {
  "kernelspec": {
   "display_name": "Julia 1.7.2",
   "language": "julia",
   "name": "julia-1.7"
  },
  "language_info": {
   "file_extension": ".jl",
   "mimetype": "application/julia",
   "name": "julia",
   "version": "1.7.2"
  }
 },
 "nbformat": 4,
 "nbformat_minor": 4
}
